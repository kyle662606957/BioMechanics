{
 "metadata": {
  "language_info": {
   "codemirror_mode": {
    "name": "ipython",
    "version": 3
   },
   "file_extension": ".py",
   "mimetype": "text/x-python",
   "name": "python",
   "nbconvert_exporter": "python",
   "pygments_lexer": "ipython3",
   "version": "3.8.5"
  },
  "orig_nbformat": 2,
  "kernelspec": {
   "name": "python385jvsc74a57bd0589675a2ef899d2c7712356152f4d1243336f48483d809baad3dee98b08edb4d",
   "display_name": "Python 3.8.5 64-bit ('base': conda)"
  }
 },
 "nbformat": 4,
 "nbformat_minor": 2,
 "cells": [
  {
   "cell_type": "code",
   "execution_count": 67,
   "metadata": {},
   "outputs": [],
   "source": [
    "import scipy.io as sio\n",
    "force_plate_data=sio.loadmat(\"/mnt/DATA/Jindong/Database_IBHGC_Lift/processed/S_test_03/action/Lift/plate_forme_data/load_plateforme_Lift_24.mat\")\n"
   ]
  },
  {
   "cell_type": "code",
   "execution_count": 73,
   "metadata": {},
   "outputs": [
    {
     "output_type": "execute_result",
     "data": {
      "text/plain": [
       "(590,)"
      ]
     },
     "metadata": {},
     "execution_count": 73
    }
   ],
   "source": [
    "force_plate_data['Force_Fx1'].squeeze().shape"
   ]
  },
  {
   "cell_type": "code",
   "execution_count": 51,
   "metadata": {},
   "outputs": [],
   "source": [
    "import os\n",
    "q=os.walk(\"/mnt/DATA/Jindong/Database_IBHGC_Lift/processed/S_test_03/action/Lift/plate_forme_data\")"
   ]
  },
  {
   "cell_type": "code",
   "execution_count": 58,
   "metadata": {},
   "outputs": [],
   "source": [
    "def get_mat_file(target_dir):\n",
    "    file_list=[]\n",
    "    for root, dir, files in os.walk(target_dir):\n",
    "        for f in files:\n",
    "            if f.endswith('.mat'):\n",
    "                file_name = os.path.join(root, f)\n",
    "                file_list.append(file_name)\n",
    "    return file_list\n",
    "\n",
    "    # for names"
   ]
  },
  {
   "cell_type": "code",
   "execution_count": 65,
   "metadata": {},
   "outputs": [],
   "source": [
    "list_mat_path=sorted(get_mat_file(\"/mnt/DATA/Jindong/Database_IBHGC_Lift/processed/S_test_03/action/Lift/plate_forme_data\"),reverse =False)\n"
   ]
  },
  {
   "cell_type": "code",
   "execution_count": 66,
   "metadata": {},
   "outputs": [
    {
     "output_type": "execute_result",
     "data": {
      "text/plain": [
       "['/mnt/DATA/Jindong/Database_IBHGC_Lift/processed/S_test_03/action/Lift/plate_forme_data/load_plateforme_Lift_01.mat',\n",
       " '/mnt/DATA/Jindong/Database_IBHGC_Lift/processed/S_test_03/action/Lift/plate_forme_data/load_plateforme_Lift_02.mat',\n",
       " '/mnt/DATA/Jindong/Database_IBHGC_Lift/processed/S_test_03/action/Lift/plate_forme_data/load_plateforme_Lift_03.mat',\n",
       " '/mnt/DATA/Jindong/Database_IBHGC_Lift/processed/S_test_03/action/Lift/plate_forme_data/load_plateforme_Lift_04.mat',\n",
       " '/mnt/DATA/Jindong/Database_IBHGC_Lift/processed/S_test_03/action/Lift/plate_forme_data/load_plateforme_Lift_05.mat',\n",
       " '/mnt/DATA/Jindong/Database_IBHGC_Lift/processed/S_test_03/action/Lift/plate_forme_data/load_plateforme_Lift_06.mat',\n",
       " '/mnt/DATA/Jindong/Database_IBHGC_Lift/processed/S_test_03/action/Lift/plate_forme_data/load_plateforme_Lift_07.mat',\n",
       " '/mnt/DATA/Jindong/Database_IBHGC_Lift/processed/S_test_03/action/Lift/plate_forme_data/load_plateforme_Lift_08.mat',\n",
       " '/mnt/DATA/Jindong/Database_IBHGC_Lift/processed/S_test_03/action/Lift/plate_forme_data/load_plateforme_Lift_09.mat',\n",
       " '/mnt/DATA/Jindong/Database_IBHGC_Lift/processed/S_test_03/action/Lift/plate_forme_data/load_plateforme_Lift_10.mat',\n",
       " '/mnt/DATA/Jindong/Database_IBHGC_Lift/processed/S_test_03/action/Lift/plate_forme_data/load_plateforme_Lift_11.mat',\n",
       " '/mnt/DATA/Jindong/Database_IBHGC_Lift/processed/S_test_03/action/Lift/plate_forme_data/load_plateforme_Lift_12.mat',\n",
       " '/mnt/DATA/Jindong/Database_IBHGC_Lift/processed/S_test_03/action/Lift/plate_forme_data/load_plateforme_Lift_13.mat',\n",
       " '/mnt/DATA/Jindong/Database_IBHGC_Lift/processed/S_test_03/action/Lift/plate_forme_data/load_plateforme_Lift_14.mat',\n",
       " '/mnt/DATA/Jindong/Database_IBHGC_Lift/processed/S_test_03/action/Lift/plate_forme_data/load_plateforme_Lift_15.mat',\n",
       " '/mnt/DATA/Jindong/Database_IBHGC_Lift/processed/S_test_03/action/Lift/plate_forme_data/load_plateforme_Lift_16.mat',\n",
       " '/mnt/DATA/Jindong/Database_IBHGC_Lift/processed/S_test_03/action/Lift/plate_forme_data/load_plateforme_Lift_17.mat',\n",
       " '/mnt/DATA/Jindong/Database_IBHGC_Lift/processed/S_test_03/action/Lift/plate_forme_data/load_plateforme_Lift_18.mat',\n",
       " '/mnt/DATA/Jindong/Database_IBHGC_Lift/processed/S_test_03/action/Lift/plate_forme_data/load_plateforme_Lift_19.mat',\n",
       " '/mnt/DATA/Jindong/Database_IBHGC_Lift/processed/S_test_03/action/Lift/plate_forme_data/load_plateforme_Lift_20.mat',\n",
       " '/mnt/DATA/Jindong/Database_IBHGC_Lift/processed/S_test_03/action/Lift/plate_forme_data/load_plateforme_Lift_21.mat',\n",
       " '/mnt/DATA/Jindong/Database_IBHGC_Lift/processed/S_test_03/action/Lift/plate_forme_data/load_plateforme_Lift_22.mat',\n",
       " '/mnt/DATA/Jindong/Database_IBHGC_Lift/processed/S_test_03/action/Lift/plate_forme_data/load_plateforme_Lift_23.mat',\n",
       " '/mnt/DATA/Jindong/Database_IBHGC_Lift/processed/S_test_03/action/Lift/plate_forme_data/load_plateforme_Lift_24.mat']"
      ]
     },
     "metadata": {},
     "execution_count": 66
    }
   ],
   "source": [
    "list_mat_path"
   ]
  },
  {
   "cell_type": "code",
   "execution_count": null,
   "metadata": {},
   "outputs": [],
   "source": [
    "all_force_plate_data=[]\n",
    "for mat_file in  list_mat_path:\n",
    "    force_plate_data=sio.loadmat(mat_file)\n",
    "    all_force_plate_data.append(force_plate_data)\n"
   ]
  }
 ]
}